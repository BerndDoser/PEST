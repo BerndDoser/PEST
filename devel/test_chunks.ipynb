{
 "cells": [
  {
   "cell_type": "code",
   "execution_count": 10,
   "id": "3fa3c065",
   "metadata": {},
   "outputs": [
    {
     "data": {
      "application/vnd.microsoft.datawrangler.viewer.v0+json": {
       "columns": [
        {
         "name": "index",
         "rawType": "int64",
         "type": "integer"
        },
        {
         "name": "data",
         "rawType": "float32",
         "type": "float"
        }
       ],
       "conversionMethod": "pd.DataFrame",
       "ref": "eb2624f0-7bff-4d17-b379-23163d120d81",
       "rows": [
        [
         "0",
         "0.3402755"
        ],
        [
         "1",
         "0.87536305"
        ],
        [
         "2",
         "0.19363794"
        ],
        [
         "3",
         "0.49600896"
        ],
        [
         "4",
         "0.4428847"
        ],
        [
         "5",
         "0.97234094"
        ],
        [
         "6",
         "0.072149105"
        ],
        [
         "7",
         "0.8585717"
        ],
        [
         "8",
         "0.2158827"
        ],
        [
         "9",
         "0.42970467"
        ],
        [
         "10",
         "0.15537365"
        ],
        [
         "11",
         "0.38988292"
        ],
        [
         "12",
         "0.39056146"
        ],
        [
         "13",
         "0.78191006"
        ],
        [
         "14",
         "0.3360581"
        ],
        [
         "15",
         "0.041422244"
        ],
        [
         "16",
         "0.8112421"
        ],
        [
         "17",
         "0.7706373"
        ],
        [
         "18",
         "0.29067084"
        ],
        [
         "19",
         "0.8629083"
        ],
        [
         "20",
         "0.37882474"
        ],
        [
         "21",
         "0.33347598"
        ],
        [
         "22",
         "0.36351988"
        ],
        [
         "23",
         "0.768932"
        ],
        [
         "24",
         "0.08387792"
        ],
        [
         "25",
         "0.6841562"
        ],
        [
         "26",
         "0.8271528"
        ],
        [
         "27",
         "0.36863685"
        ],
        [
         "28",
         "0.9310702"
        ],
        [
         "29",
         "0.50753814"
        ],
        [
         "30",
         "0.8262965"
        ],
        [
         "31",
         "0.23488678"
        ],
        [
         "32",
         "0.5003615"
        ],
        [
         "33",
         "0.59899503"
        ],
        [
         "34",
         "0.025828661"
        ],
        [
         "35",
         "0.64196765"
        ],
        [
         "36",
         "0.5385664"
        ],
        [
         "37",
         "0.78202313"
        ],
        [
         "38",
         "0.74401927"
        ],
        [
         "39",
         "0.22936031"
        ],
        [
         "40",
         "0.12008349"
        ],
        [
         "41",
         "0.6291905"
        ],
        [
         "42",
         "0.15880692"
        ],
        [
         "43",
         "0.54653496"
        ],
        [
         "44",
         "0.24137303"
        ],
        [
         "45",
         "0.6911847"
        ],
        [
         "46",
         "0.47792074"
        ],
        [
         "47",
         "0.8428499"
        ],
        [
         "48",
         "0.8791846"
        ],
        [
         "49",
         "0.5576142"
        ]
       ],
       "shape": {
        "columns": 1,
        "rows": 100
       }
      },
      "text/html": [
       "<div>\n",
       "<style scoped>\n",
       "    .dataframe tbody tr th:only-of-type {\n",
       "        vertical-align: middle;\n",
       "    }\n",
       "\n",
       "    .dataframe tbody tr th {\n",
       "        vertical-align: top;\n",
       "    }\n",
       "\n",
       "    .dataframe thead th {\n",
       "        text-align: right;\n",
       "    }\n",
       "</style>\n",
       "<table border=\"1\" class=\"dataframe\">\n",
       "  <thead>\n",
       "    <tr style=\"text-align: right;\">\n",
       "      <th></th>\n",
       "      <th>data</th>\n",
       "    </tr>\n",
       "  </thead>\n",
       "  <tbody>\n",
       "    <tr>\n",
       "      <th>0</th>\n",
       "      <td>0.340275</td>\n",
       "    </tr>\n",
       "    <tr>\n",
       "      <th>1</th>\n",
       "      <td>0.875363</td>\n",
       "    </tr>\n",
       "    <tr>\n",
       "      <th>2</th>\n",
       "      <td>0.193638</td>\n",
       "    </tr>\n",
       "    <tr>\n",
       "      <th>3</th>\n",
       "      <td>0.496009</td>\n",
       "    </tr>\n",
       "    <tr>\n",
       "      <th>4</th>\n",
       "      <td>0.442885</td>\n",
       "    </tr>\n",
       "    <tr>\n",
       "      <th>...</th>\n",
       "      <td>...</td>\n",
       "    </tr>\n",
       "    <tr>\n",
       "      <th>95</th>\n",
       "      <td>0.250776</td>\n",
       "    </tr>\n",
       "    <tr>\n",
       "      <th>96</th>\n",
       "      <td>0.395493</td>\n",
       "    </tr>\n",
       "    <tr>\n",
       "      <th>97</th>\n",
       "      <td>0.278861</td>\n",
       "    </tr>\n",
       "    <tr>\n",
       "      <th>98</th>\n",
       "      <td>0.828517</td>\n",
       "    </tr>\n",
       "    <tr>\n",
       "      <th>99</th>\n",
       "      <td>0.790402</td>\n",
       "    </tr>\n",
       "  </tbody>\n",
       "</table>\n",
       "<p>100 rows × 1 columns</p>\n",
       "</div>"
      ],
      "text/plain": [
       "        data\n",
       "0   0.340275\n",
       "1   0.875363\n",
       "2   0.193638\n",
       "3   0.496009\n",
       "4   0.442885\n",
       "..       ...\n",
       "95  0.250776\n",
       "96  0.395493\n",
       "97  0.278861\n",
       "98  0.828517\n",
       "99  0.790402\n",
       "\n",
       "[100 rows x 1 columns]"
      ]
     },
     "execution_count": 10,
     "metadata": {},
     "output_type": "execute_result"
    }
   ],
   "source": [
    "import pandas as pd\n",
    "import numpy as np\n",
    "\n",
    "df = pd.DataFrame(\n",
    "    {\n",
    "        \"data\": np.random.rand(100).astype(np.float32),\n",
    "    }\n",
    ")\n",
    "df"
   ]
  },
  {
   "cell_type": "code",
   "execution_count": 11,
   "id": "fae137d8",
   "metadata": {},
   "outputs": [],
   "source": [
    "import pyarrow as pa\n",
    "import pyarrow.dataset as pda\n",
    "\n",
    "chunk_size = 10\n",
    "output_path = \"output\"\n",
    "\n",
    "table = pa.Table.from_pandas(df)\n",
    "\n",
    "pda.write_dataset(\n",
    "    table,\n",
    "    output_path,\n",
    "    format=\"parquet\",\n",
    "    max_rows_per_file=chunk_size,\n",
    "    max_rows_per_group=chunk_size,\n",
    "    # existing_data_behavior=\"overwrite_or_ignore\",\n",
    "    existing_data_behavior=\"error\",\n",
    "    partitioning_flavor=\"hive\",\n",
    ")"
   ]
  },
  {
   "cell_type": "code",
   "execution_count": 16,
   "id": "2903abe5",
   "metadata": {},
   "outputs": [],
   "source": [
    "import pyarrow.parquet as pq\n",
    "\n",
    "writer = pq.ParquetWriter(\n",
    "    \"part-0.parquet\",\n",
    "    table.schema,\n",
    "    compression=\"snappy\",\n",
    ")\n",
    "writer.write_table(table, row_group_size=chunk_size)\n",
    "writer.close()"
   ]
  },
  {
   "cell_type": "code",
   "execution_count": 18,
   "id": "96685890",
   "metadata": {},
   "outputs": [
    {
     "data": {
      "application/vnd.microsoft.datawrangler.viewer.v0+json": {
       "columns": [
        {
         "name": "index",
         "rawType": "int64",
         "type": "integer"
        },
        {
         "name": "data",
         "rawType": "float32",
         "type": "float"
        }
       ],
       "conversionMethod": "pd.DataFrame",
       "ref": "fd501038-5d4a-445c-b870-ac8d9fb9ebf9",
       "rows": [
        [
         "0",
         "0.3402755"
        ],
        [
         "1",
         "0.87536305"
        ],
        [
         "2",
         "0.19363794"
        ],
        [
         "3",
         "0.49600896"
        ],
        [
         "4",
         "0.4428847"
        ],
        [
         "5",
         "0.97234094"
        ],
        [
         "6",
         "0.072149105"
        ],
        [
         "7",
         "0.8585717"
        ],
        [
         "8",
         "0.2158827"
        ],
        [
         "9",
         "0.42970467"
        ],
        [
         "10",
         "0.15537365"
        ],
        [
         "11",
         "0.38988292"
        ],
        [
         "12",
         "0.39056146"
        ],
        [
         "13",
         "0.78191006"
        ],
        [
         "14",
         "0.3360581"
        ],
        [
         "15",
         "0.041422244"
        ],
        [
         "16",
         "0.8112421"
        ],
        [
         "17",
         "0.7706373"
        ],
        [
         "18",
         "0.29067084"
        ],
        [
         "19",
         "0.8629083"
        ],
        [
         "20",
         "0.37882474"
        ],
        [
         "21",
         "0.33347598"
        ],
        [
         "22",
         "0.36351988"
        ],
        [
         "23",
         "0.768932"
        ],
        [
         "24",
         "0.08387792"
        ],
        [
         "25",
         "0.6841562"
        ],
        [
         "26",
         "0.8271528"
        ],
        [
         "27",
         "0.36863685"
        ],
        [
         "28",
         "0.9310702"
        ],
        [
         "29",
         "0.50753814"
        ],
        [
         "30",
         "0.8262965"
        ],
        [
         "31",
         "0.23488678"
        ],
        [
         "32",
         "0.5003615"
        ],
        [
         "33",
         "0.59899503"
        ],
        [
         "34",
         "0.025828661"
        ],
        [
         "35",
         "0.64196765"
        ],
        [
         "36",
         "0.5385664"
        ],
        [
         "37",
         "0.78202313"
        ],
        [
         "38",
         "0.74401927"
        ],
        [
         "39",
         "0.22936031"
        ],
        [
         "40",
         "0.12008349"
        ],
        [
         "41",
         "0.6291905"
        ],
        [
         "42",
         "0.15880692"
        ],
        [
         "43",
         "0.54653496"
        ],
        [
         "44",
         "0.24137303"
        ],
        [
         "45",
         "0.6911847"
        ],
        [
         "46",
         "0.47792074"
        ],
        [
         "47",
         "0.8428499"
        ],
        [
         "48",
         "0.8791846"
        ],
        [
         "49",
         "0.5576142"
        ]
       ],
       "shape": {
        "columns": 1,
        "rows": 100
       }
      },
      "text/html": [
       "<div>\n",
       "<style scoped>\n",
       "    .dataframe tbody tr th:only-of-type {\n",
       "        vertical-align: middle;\n",
       "    }\n",
       "\n",
       "    .dataframe tbody tr th {\n",
       "        vertical-align: top;\n",
       "    }\n",
       "\n",
       "    .dataframe thead th {\n",
       "        text-align: right;\n",
       "    }\n",
       "</style>\n",
       "<table border=\"1\" class=\"dataframe\">\n",
       "  <thead>\n",
       "    <tr style=\"text-align: right;\">\n",
       "      <th></th>\n",
       "      <th>data</th>\n",
       "    </tr>\n",
       "  </thead>\n",
       "  <tbody>\n",
       "    <tr>\n",
       "      <th>0</th>\n",
       "      <td>0.340275</td>\n",
       "    </tr>\n",
       "    <tr>\n",
       "      <th>1</th>\n",
       "      <td>0.875363</td>\n",
       "    </tr>\n",
       "    <tr>\n",
       "      <th>2</th>\n",
       "      <td>0.193638</td>\n",
       "    </tr>\n",
       "    <tr>\n",
       "      <th>3</th>\n",
       "      <td>0.496009</td>\n",
       "    </tr>\n",
       "    <tr>\n",
       "      <th>4</th>\n",
       "      <td>0.442885</td>\n",
       "    </tr>\n",
       "    <tr>\n",
       "      <th>...</th>\n",
       "      <td>...</td>\n",
       "    </tr>\n",
       "    <tr>\n",
       "      <th>95</th>\n",
       "      <td>0.250776</td>\n",
       "    </tr>\n",
       "    <tr>\n",
       "      <th>96</th>\n",
       "      <td>0.395493</td>\n",
       "    </tr>\n",
       "    <tr>\n",
       "      <th>97</th>\n",
       "      <td>0.278861</td>\n",
       "    </tr>\n",
       "    <tr>\n",
       "      <th>98</th>\n",
       "      <td>0.828517</td>\n",
       "    </tr>\n",
       "    <tr>\n",
       "      <th>99</th>\n",
       "      <td>0.790402</td>\n",
       "    </tr>\n",
       "  </tbody>\n",
       "</table>\n",
       "<p>100 rows × 1 columns</p>\n",
       "</div>"
      ],
      "text/plain": [
       "        data\n",
       "0   0.340275\n",
       "1   0.875363\n",
       "2   0.193638\n",
       "3   0.496009\n",
       "4   0.442885\n",
       "..       ...\n",
       "95  0.250776\n",
       "96  0.395493\n",
       "97  0.278861\n",
       "98  0.828517\n",
       "99  0.790402\n",
       "\n",
       "[100 rows x 1 columns]"
      ]
     },
     "execution_count": 18,
     "metadata": {},
     "output_type": "execute_result"
    }
   ],
   "source": [
    "pq.read_table('part-0.parquet').to_pandas()"
   ]
  }
 ],
 "metadata": {
  "kernelspec": {
   "display_name": ".venv",
   "language": "python",
   "name": "python3"
  },
  "language_info": {
   "codemirror_mode": {
    "name": "ipython",
    "version": 3
   },
   "file_extension": ".py",
   "mimetype": "text/x-python",
   "name": "python",
   "nbconvert_exporter": "python",
   "pygments_lexer": "ipython3",
   "version": "3.12.3"
  }
 },
 "nbformat": 4,
 "nbformat_minor": 5
}
