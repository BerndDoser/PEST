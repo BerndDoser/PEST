{
 "cells": [
  {
   "cell_type": "code",
   "execution_count": null,
   "id": "0a74e7d1",
   "metadata": {},
   "outputs": [
    {
     "data": {
      "application/vnd.microsoft.datawrangler.viewer.v0+json": {
       "columns": [
        {
         "name": "index",
         "rawType": "int64",
         "type": "integer"
        },
        {
         "name": "data",
         "rawType": "object",
         "type": "unknown"
        },
        {
         "name": "simulation",
         "rawType": "object",
         "type": "string"
        },
        {
         "name": "snapshot",
         "rawType": "object",
         "type": "string"
        },
        {
         "name": "subhalo_id",
         "rawType": "object",
         "type": "string"
        }
       ],
       "conversionMethod": "pd.DataFrame",
       "ref": "1f2c8da8-9822-4c83-9b92-a029068d714d",
       "rows": [
        [
         "0",
         "[0.00242854 0.0025618  0.00226272 ... 0.00365636 0.00373668 0.00370992]",
         "TNG100",
         "099",
         "276100"
        ],
        [
         "1",
         "[0. 0. 0. ... 0. 0. 0.]",
         "TNG100",
         "099",
         "6"
        ]
       ],
       "shape": {
        "columns": 4,
        "rows": 2
       }
      },
      "text/html": [
       "<div>\n",
       "<style scoped>\n",
       "    .dataframe tbody tr th:only-of-type {\n",
       "        vertical-align: middle;\n",
       "    }\n",
       "\n",
       "    .dataframe tbody tr th {\n",
       "        vertical-align: top;\n",
       "    }\n",
       "\n",
       "    .dataframe thead th {\n",
       "        text-align: right;\n",
       "    }\n",
       "</style>\n",
       "<table border=\"1\" class=\"dataframe\">\n",
       "  <thead>\n",
       "    <tr style=\"text-align: right;\">\n",
       "      <th></th>\n",
       "      <th>data</th>\n",
       "      <th>simulation</th>\n",
       "      <th>snapshot</th>\n",
       "      <th>subhalo_id</th>\n",
       "    </tr>\n",
       "  </thead>\n",
       "  <tbody>\n",
       "    <tr>\n",
       "      <th>0</th>\n",
       "      <td>[0.0024285442537526837, 0.0025617975519192583,...</td>\n",
       "      <td>TNG100</td>\n",
       "      <td>099</td>\n",
       "      <td>276100</td>\n",
       "    </tr>\n",
       "    <tr>\n",
       "      <th>1</th>\n",
       "      <td>[0.0, 0.0, 0.0, 0.0, 0.0, 0.0, 0.0, 0.0, 0.0, ...</td>\n",
       "      <td>TNG100</td>\n",
       "      <td>099</td>\n",
       "      <td>6</td>\n",
       "    </tr>\n",
       "  </tbody>\n",
       "</table>\n",
       "</div>"
      ],
      "text/plain": [
       "                                                data simulation snapshot  \\\n",
       "0  [0.0024285442537526837, 0.0025617975519192583,...     TNG100      099   \n",
       "1  [0.0, 0.0, 0.0, 0.0, 0.0, 0.0, 0.0, 0.0, 0.0, ...     TNG100      099   \n",
       "\n",
       "  subhalo_id  \n",
       "0     276100  \n",
       "1          6  "
      ]
     },
     "execution_count": 15,
     "metadata": {},
     "output_type": "execute_result"
    }
   ],
   "source": [
    "import pandas as pd\n",
    "\n",
    "df = pd.read_parquet(\"../output/0.parquet\")\n",
    "df"
   ]
  },
  {
   "cell_type": "code",
   "execution_count": null,
   "id": "afa456a2",
   "metadata": {},
   "outputs": [
    {
     "data": {
      "image/jpeg": "[encoded data removed]",
      "image/png": "[encoded data removed]",
      "text/plain": [
       "<PIL.Image.Image image mode=RGB size=128x128>"
      ]
     },
     "execution_count": 20,
     "metadata": {},
     "output_type": "execute_result"
    }
   ],
   "source": [
    "from PIL import Image\n",
    "import numpy as np\n",
    "\n",
    "data = df[\"data\"][0].reshape(3, 128, 128)\n",
    "data = data.transpose(1, 2, 0)\n",
    "data = data * 255\n",
    "data = data.astype(np.uint8)\n",
    "\n",
    "image = Image.fromarray(data, \"RGB\")\n",
    "image"
   ]
  }
 ],
 "metadata": {
  "kernelspec": {
   "display_name": ".venv",
   "language": "python",
   "name": "python3"
  },
  "language_info": {
   "codemirror_mode": {
    "name": "ipython",
    "version": 3
   },
   "file_extension": ".py",
   "mimetype": "text/x-python",
   "name": "python",
   "nbconvert_exporter": "python",
   "pygments_lexer": "ipython3",
   "version": "3.12.3"
  }
 },
 "nbformat": 4,
 "nbformat_minor": 5
}
